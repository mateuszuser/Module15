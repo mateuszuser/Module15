{
 "cells": [
  {
   "cell_type": "markdown",
   "metadata": {},
   "source": [
    "# Opis wykonania funkcji w pythonie."
   ]
  },
  {
   "cell_type": "markdown",
   "metadata": {},
   "source": [
    "Funkcję w pythonie tworzymy poprzez wpisanie słowa def,\n",
    "następnie wpisujemy nazwę funkcji nawiasy okrągłe i dwukropek.\n",
    "W kolejnych linijkach umieszczamy zapis logiki odpowiedzialnej za działanie funkcji,\n",
    "w ostat. linijce umieszczamy słowo return i wartość, którą funkcja ma zwracać.\n",
    "\n",
    "Przykłądowa funkcja dodająca dwie liczby."
   ]
  },
  {
   "cell_type": "code",
   "execution_count": 2,
   "metadata": {},
   "outputs": [],
   "source": [
    "def add_two_numbers():\n",
    "    x = 2\n",
    "    y = 2\n",
    "    return x + y"
   ]
  },
  {
   "cell_type": "markdown",
   "metadata": {},
   "source": [
    "Funkcję wywołujemy poprzez wpisanie nazwy funkcji z dwoma nawiasami."
   ]
  },
  {
   "cell_type": "code",
   "execution_count": 3,
   "metadata": {},
   "outputs": [
    {
     "data": {
      "text/plain": [
       "4"
      ]
     },
     "execution_count": 3,
     "metadata": {},
     "output_type": "execute_result"
    }
   ],
   "source": [
    "add_two_numbers()"
   ]
  }
 ],
 "metadata": {
  "kernelspec": {
   "display_name": "Python 3.10.4 ('Module3': venv)",
   "language": "python",
   "name": "python3"
  },
  "language_info": {
   "codemirror_mode": {
    "name": "ipython",
    "version": 3
   },
   "file_extension": ".py",
   "mimetype": "text/x-python",
   "name": "python",
   "nbconvert_exporter": "python",
   "pygments_lexer": "ipython3",
   "version": "3.10.4"
  },
  "orig_nbformat": 4,
  "vscode": {
   "interpreter": {
    "hash": "8e593b4cc63ff127cc74ffcbf8af831c8d4d05525e280a2c0385dab5dfe2a1da"
   }
  }
 },
 "nbformat": 4,
 "nbformat_minor": 2
}
